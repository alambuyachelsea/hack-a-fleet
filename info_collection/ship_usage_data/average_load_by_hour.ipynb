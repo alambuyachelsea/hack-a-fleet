{
 "cells": [
  {
   "cell_type": "markdown",
   "metadata": {},
   "source": [
    "First we define the function:"
   ]
  },
  {
   "cell_type": "code",
   "execution_count": null,
   "metadata": {},
   "outputs": [],
   "source": [
    "from matplotlib import pyplot\n",
    "import csv\n",
    "import pandas as pd\n",
    "import matplotlib.pyplot as plt\n",
    "import datetime\n",
    "\n",
    "# Process the Trips CSV file\n",
    "trips_df = pd.read_csv(\"../../ferry_tips_data.csv\")\n",
    "print(trips_df[\"trip_type\"].unique())\n",
    "\n",
    "# makes a nice chart of the average amount of stuff carried.\n",
    "def average_load_by_hour(route_id:int):\n",
    "    #filter for chosen route and make sure to only count ordinary trips\n",
    "    route_df = trips_df[(trips_df[\"route_id\"] == route_id) & (trips_df[\"trip_type\"] == \"ordinary           \")] #The type ordinary has a bunch of spaces in the csv.\n",
    "    route_name = route_df[\"route_name\"].iloc[0]\n",
    "\n",
    "    #generalize departure time to only include hour\n",
    "    route_df.loc[:, \"time_departure\"] = route_df[\"time_departure\"].apply(lambda x: datetime.datetime.fromisoformat(x).hour)\n",
    "\n",
    "    # calculate mean of all loads in the same hour.\n",
    "    hourly_df = route_df.groupby(\"time_departure\", as_index=False).mean(numeric_only=True)\n",
    "    plt.bar(hourly_df[\"time_departure\"], hourly_df[\"cars_outbound\"])\n",
    "    plt.title(\"Average cars carried by hour on route: \" + route_name)\n",
    "    plt.xticks(range(24))\n",
    "    plt.show()"
   ]
  },
  {
   "cell_type": "markdown",
   "metadata": {},
   "source": [
    "Breakdown by route:"
   ]
  },
  {
   "cell_type": "code",
   "execution_count": null,
   "metadata": {},
   "outputs": [],
   "source": [
    "for route in trips_df[\"route_id\"].unique():\n",
    "    print(route)\n",
    "    average_load_by_hour(route)"
   ]
  }
 ],
 "metadata": {
  "kernelspec": {
   "display_name": "Python 3",
   "language": "python",
   "name": "python3"
  },
  "language_info": {
   "codemirror_mode": {
    "name": "ipython",
    "version": 3
   },
   "file_extension": ".py",
   "mimetype": "text/x-python",
   "name": "python",
   "nbconvert_exporter": "python",
   "pygments_lexer": "ipython3",
   "version": "3.12.6"
  }
 },
 "nbformat": 4,
 "nbformat_minor": 2
}
