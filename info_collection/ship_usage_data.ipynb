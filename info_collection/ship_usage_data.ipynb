{
 "cells": [
  {
   "cell_type": "markdown",
   "metadata": {},
   "source": [
    "Init:"
   ]
  },
  {
   "cell_type": "code",
   "execution_count": null,
   "metadata": {},
   "outputs": [],
   "source": [
    "from matplotlib import pyplot\n",
    "import csv\n",
    "import pandas as pd\n",
    "import matplotlib.pyplot as plt\n",
    "import datetime\n",
    "\n",
    "# Process the Trips CSV file\n",
    "trips_df = pd.read_csv(\"../ferry_tips_data.csv\")\n"
   ]
  },
  {
   "cell_type": "markdown",
   "metadata": {},
   "source": [
    "Filter for only line 17"
   ]
  },
  {
   "cell_type": "code",
   "execution_count": null,
   "metadata": {},
   "outputs": [],
   "source": [
    "route17 = trips_df[trips_df[\"route_id\"] == 17] # Filter for line \n",
    "\n",
    "#make date good\n",
    "route17.loc[: ,\"time_departure\"] = route17[\"time_departure\"].apply(lambda x: datetime.datetime.fromisoformat(x))\n",
    "\n",
    "route17.plot(x= \"time_departure\", y=\"pedestrians_outbound\", title=\"Pedestrians carried on given date\")\n",
    "route17.plot(x= \"time_departure\", y=\"cars_outbound\", title=\"Cars carried on given date\")\n",
    "\n",
    "#filter for a random day\n",
    "route17day = route17[route17[\"time_departure\"] > datetime.datetime(2024, 2, 11)]\n",
    "route17day = route17day[route17day[\"time_departure\"] < datetime.datetime(2024, 2, 12)]\n",
    "\n",
    "route17day.plot(kind= \"bar\", x= \"time_departure\", y=\"pedestrians_outbound\", title=\"Pedestrians carried on 2024-02-11\")\n",
    "route17day.plot(kind= \"bar\", x= \"time_departure\", y=\"cars_outbound\", title=\"Cars carried on 2024-02-11\")"
   ]
  },
  {
   "cell_type": "code",
   "execution_count": null,
   "metadata": {},
   "outputs": [],
   "source": [
    "# List of selected routes\n",
    "selected_routes = [17, 16, 12, 21, 38]\n",
    "trips_df = trips_df[trips_df[\"route_id\"].isin(selected_routes)]\n",
    "\n",
    "# Convert \"time_departure\" column to datetime\n",
    "trips_df[\"time_departure\"] = pd.to_datetime(trips_df[\"time_departure\"], errors=\"coerce\")\n",
    "\n",
    "# Create the \"date\" column\n",
    "trips_df[\"date\"] = trips_df[\"time_departure\"].dt.date\n",
    "\n",
    "# Group by route_id and date, summing together pedestrians per day\n",
    "pedestrians_per_day = trips_df.groupby([\"route_id\", \"date\"])[\"pedestrians_outbound\"].sum().reset_index()\n",
    "\n",
    "# Calculate the average number of pedestrians per day for each route\n",
    "average_pedestrians_per_day_per_route = pedestrians_per_day.groupby(\"route_id\")[\"pedestrians_outbound\"].mean()\n",
    "\n",
    "# Show the results\n",
    "print(\"Average Number of Pedestrians Per Day for Each Route:\")\n",
    "print(average_pedestrians_per_day_per_route)\n",
    "\n",
    "# Plot the graph\n",
    "average_pedestrians_per_day_per_route.plot(kind=\"bar\", title=\"Average Pedestrians Per Day Per Route\", figsize=(10, 6))\n",
    "plt.xlabel(\"Route ID\")\n",
    "plt.ylabel(\"Average Pedestrians Per Day\")\n",
    "plt.legend(loc=\"upper right\")\n",
    "plt.grid(True)\n",
    "plt.show()\n"
   ]
  },
  {
   "cell_type": "code",
   "execution_count": null,
   "metadata": {},
   "outputs": [],
   "source": [
    "# Group by route_id and date, summing together motorcycles per day\n",
    "motorcycles_per_day = trips_df.groupby([\"route_id\", \"date\"])[\"motorcycles_outbound\"].sum().reset_index()\n",
    "\n",
    "# Calculate the daily average for motorcycles per route\n",
    "average_motorcycles_per_day = motorcycles_per_day.groupby(\"route_id\")[\"motorcycles_outbound\"].mean()\n",
    "\n",
    "# Show results\n",
    "print(\"Average Motorcyles Per Day Per Route:\")\n",
    "print(average_motorcycles_per_day)\n",
    "\n",
    "# Plot the graph\n",
    "plt.figure(figsize=(10, 6))\n",
    "average_motorcycles_per_day.plot(kind=\"bar\", label=\"motorcycles_outbound\")\n",
    "plt.title(\"Average Motorcycles Per Day Per Route\")\n",
    "plt.xlabel(\"Route ID\")\n",
    "plt.ylabel(\"Average Motorcycles Per Day\")\n",
    "plt.legend(loc=\"upper right\")\n",
    "plt.grid(True)\n",
    "plt.show()\n"
   ]
  },
  {
   "cell_type": "code",
   "execution_count": null,
   "metadata": {},
   "outputs": [],
   "source": [
    "# Group by route_id and date, summing together cars per day\n",
    "cars_per_day = trips_df.groupby([\"route_id\", \"date\"])[\"cars_outbound\"].sum().reset_index()\n",
    "\n",
    "# Calculate the daily average for cars per route\n",
    "average_cars_per_day = cars_per_day.groupby(\"route_id\")[\"cars_outbound\"].mean()\n",
    "\n",
    "# Show results\n",
    "print(\"Average Cars Per Day Per Route:\")\n",
    "print(average_cars_per_day)\n",
    "\n",
    "# Plot the graph\n",
    "average_cars_per_day.plot(kind=\"bar\", title=\"Average Cars Per Day Per Route\", figsize=(10, 6))\n",
    "plt.xlabel(\"Route ID\")\n",
    "plt.ylabel(\"Average Cars Per Day\")\n",
    "plt.legend(loc=\"upper right\") \n",
    "plt.grid(True)\n",
    "plt.show()\n"
   ]
  },
  {
   "cell_type": "code",
   "execution_count": null,
   "metadata": {},
   "outputs": [],
   "source": [
    "# Group by route_id and date, summing together trucks per day\n",
    "trucks_per_day = trips_df.groupby([\"route_id\", \"date\"])[\"trucks_outbound\"].sum().reset_index()\n",
    "\n",
    "# Calculate the daily average for trucks per route\n",
    "average_trucks_per_day = trucks_per_day.groupby(\"route_id\")[\"trucks_outbound\"].mean()\n",
    "\n",
    "# Show the result\n",
    "print(\"Average Trucks Per Day Per Route:\")\n",
    "print(average_trucks_per_day)\n",
    "\n",
    "# Plot the graph\n",
    "average_trucks_per_day.plot(kind=\"bar\", title=\"Average Trucks Per Day Per Route\", figsize=(10, 6))\n",
    "plt.xlabel(\"Route ID\")\n",
    "plt.ylabel(\"Average Trucks Per Day\")\n",
    "plt.legend(loc=\"upper right\")  # Adds the legend\n",
    "plt.grid(True)\n",
    "plt.show()\n"
   ]
  },
  {
   "cell_type": "code",
   "execution_count": null,
   "metadata": {},
   "outputs": [],
   "source": [
    "# Group by route_id and date, summing together trucks with trailers per day\n",
    "trucks_with_trailers_per_day = trips_df.groupby([\"route_id\", \"date\"])[\"trucks_with_trailer_outbound\"].sum().reset_index()\n",
    "\n",
    "# Calculate the daily average for trucks with trailers per route\n",
    "average_trucks_with_trailers_per_day = trucks_with_trailers_per_day.groupby(\"route_id\")[\"trucks_with_trailer_outbound\"].mean()\n",
    "\n",
    "# Show the graph\n",
    "print(\"Average Trucks with Trailers Per Day Per Route:\")\n",
    "print(average_trucks_with_trailers_per_day)\n",
    "\n",
    "# Plot the graph\n",
    "average_trucks_with_trailers_per_day.plot(kind=\"bar\", title=\"Average Trucks with Trailers Per Day Per Route\", figsize=(10, 6))\n",
    "plt.xlabel(\"Route ID\")\n",
    "plt.ylabel(\"Average Trucks with Trailers Per Day\")\n",
    "plt.legend(loc=\"upper right\") \n",
    "plt.grid(True)\n",
    "plt.show()\n"
   ]
  },
  {
   "cell_type": "code",
   "execution_count": null,
   "metadata": {},
   "outputs": [],
   "source": [
    "# Group by route_id and date, summing together buses per day\n",
    "buses_per_day = trips_df.groupby([\"route_id\", \"date\"])[\"buses_outbound\"].sum().reset_index()\n",
    "\n",
    "# Calculate the daily average for buses per route\n",
    "average_buses_per_day = buses_per_day.groupby(\"route_id\")[\"buses_outbound\"].mean()\n",
    "\n",
    "# Show the result\n",
    "print(\"Average Busses Per Day Per Route:\")\n",
    "print(average_buses_per_day)\n",
    "\n",
    "# Plot the graph\n",
    "average_buses_per_day.plot(kind=\"bar\", title=\"Average Busses Per Day Per Route\", figsize=(10, 6))\n",
    "plt.xlabel(\"Route ID\")\n",
    "plt.ylabel(\"Average Busses Per Day\")\n",
    "plt.legend(loc=\"upper right\")  \n",
    "plt.grid(True)\n",
    "plt.show()\n"
   ]
  }
 ],
 "metadata": {
  "kernelspec": {
   "display_name": ".venv",
   "language": "python",
   "name": "python3"
  },
  "language_info": {
   "codemirror_mode": {
    "name": "ipython",
    "version": 3
   },
   "file_extension": ".py",
   "mimetype": "text/x-python",
   "name": "python",
   "nbconvert_exporter": "python",
   "pygments_lexer": "ipython3",
   "version": "3.12.7"
  }
 },
 "nbformat": 4,
 "nbformat_minor": 2
}
