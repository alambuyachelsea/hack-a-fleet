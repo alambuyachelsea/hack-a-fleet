{
 "cells": [
  {
   "cell_type": "code",
   "execution_count": 2,
   "metadata": {},
   "outputs": [
    {
     "name": "stdout",
     "output_type": "stream",
     "text": [
      "Vessel ID: mmsi_265558290\n",
      "Time Frame: 2024-11-01 00:00:00 to 2024-11-01 23:59:59\n",
      "Total Fuel Consumption: 8256.23 liters\n",
      "Average Fuel Consumption per minute: 10.36 liters\n"
     ]
    }
   ],
   "source": [
    "import sys\n",
    "sys.path.append(\"../\")\n",
    "from utils import *\n",
    "\n",
    "\"\"\"\n",
    "Calculate total and average fuel consumption for a given vessel and time range.\n",
    "\"\"\"\n",
    "def calculate_fuel_consumption(vessel_id, start_time, end_time):\n",
    "    # Define the parameter ID for fuel consumption\n",
    "    parameter_ids = [\"enginemain_fuelcons_lph_1\"]\n",
    "\n",
    "    try:\n",
    "        # Fetch data from PONTOS-HUB\n",
    "        vessel_data = fetch_vessel_data(\n",
    "            vessel_id = vessel_id,\n",
    "            start_time = start_time,\n",
    "            end_time = end_time,\n",
    "            parameter_ids = parameter_ids,\n",
    "            time_bucket = \"1 minute\"\n",
    "        )\n",
    "\n",
    "        # Convert fetched data into a Pandas DataFrame\n",
    "        fuel_data_df = transform_vessel_data_to_dataframe(vessel_data)\n",
    "\n",
    "        if fuel_data_df.empty:\n",
    "            return {\"message\": \"No data available for the specified parameters.\"}\n",
    "\n",
    "        # Filter out non-zero fuel consumption\n",
    "        non_zero_data = fuel_data_df[fuel_data_df[\"enginemain_fuelcons_lph_1\"] > 0]\n",
    "\n",
    "        if non_zero_data.empty:\n",
    "            return {\"message\": \"No non-zero data available for the specified parameters.\"}\n",
    "\n",
    "        # Calculate the total and average fuel consumption\n",
    "        total_fuel_consumption = non_zero_data[\"enginemain_fuelcons_lph_1\"].sum().round(2)\n",
    "        average_fuel_consumption = non_zero_data[\"enginemain_fuelcons_lph_1\"].mean().round(2)\n",
    "\n",
    "        return {\n",
    "            \"vessel_id\": vessel_id,\n",
    "            \"time_frame\": f\"{start_time} to {end_time}\",\n",
    "            \"total_fuel_consumption\": total_fuel_consumption,\n",
    "            \"average_fuel_consumption\": average_fuel_consumption,\n",
    "        }\n",
    "    except Exception as e:\n",
    "        return {\"message\": f\"An error occurred: {str(e)}\"}\n",
    "\n",
    "# Example usage\n",
    "vessel_id = \"mmsi_265558290\"\n",
    "start_time = \"2024-11-01 00:00:00\"\n",
    "end_time = \"2024-11-01 23:59:59\"\n",
    "\n",
    "result = calculate_fuel_consumption(vessel_id, start_time, end_time)\n",
    "if \"message\" in result:\n",
    "    print(result[\"message\"])\n",
    "else:\n",
    "    print(f\"Vessel ID: {result['vessel_id']}\")\n",
    "    print(f\"Time Frame: {result['time_frame']}\")\n",
    "    print(f\"Total Fuel Consumption: {result['total_fuel_consumption']} liters\")\n",
    "    print(f\"Average Fuel Consumption per minute: {result['average_fuel_consumption']} liters\")"
   ]
  },
  {
   "cell_type": "code",
   "execution_count": null,
   "metadata": {},
   "outputs": [
    {
     "name": "stdout",
     "output_type": "stream",
     "text": [
      "Vessel ID: mmsi_265558290\n",
      "Time Frame: 2024-11-01 00:00:00 to 2024-11-01 23:59:59\n",
      "Emission Factor: 2.68 kg CO2/L\n",
      "Total CO2 Emissions: 22126.7 kg\n",
      "Average CO2 Emissions per minute: 27.76 kg\n"
     ]
    }
   ],
   "source": [
    "\"\"\"\n",
    "Calculate total and average CO2 emissions for a specific vessel and time range using an emission factor based on the type of fuel.\n",
    "\"\"\"\n",
    "def calculate_co2_emissions_with_factor(vessel_id, start_time, end_time, emission_factor):\n",
    "    try:\n",
    "        # Fetch fuel consumption data using the helper function\n",
    "        fuel_data = calculate_fuel_consumption(vessel_id, start_time, end_time)\n",
    "\n",
    "        # Check if the fuel data has any issues\n",
    "        if \"message\" in fuel_data:\n",
    "            return {\"message\": fuel_data[\"message\"]}\n",
    "\n",
    "        # Calculate CO2 emissions based on total fuel consumption\n",
    "        total_co2_emissions = (fuel_data[\"total_fuel_consumption\"] * emission_factor).round(2)\n",
    "        average_co2_emissions = (fuel_data[\"average_fuel_consumption\"] * emission_factor).round(2)\n",
    "\n",
    "        return {\n",
    "            \"vessel_id\": vessel_id,\n",
    "            \"time_frame\": fuel_data[\"time_frame\"],\n",
    "            \"emission_factor\": emission_factor,\n",
    "            \"total_co2_emissions\": total_co2_emissions,\n",
    "            \"average_co2_emissions_per_minute\": average_co2_emissions\n",
    "        }\n",
    "    except Exception as e:\n",
    "        return {\"message\": f\"An error occurred: {str(e)}\"}\n",
    "\n",
    "# Example usage\n",
    "vessel_id = \"mmsi_265558290\"\n",
    "start_time = \"2024-11-01 00:00:00\"\n",
    "end_time = \"2024-11-01 23:59:59\"\n",
    "emission_factor = 2.68  # Diesel emission factor (kg CO2 per liter)\n",
    "\n",
    "result = calculate_co2_emissions_with_factor(vessel_id, start_time, end_time, emission_factor)\n",
    "\n",
    "if \"message\" in result:\n",
    "    print(result[\"message\"])\n",
    "else:\n",
    "    print(f\"Vessel ID: {result['vessel_id']}\")\n",
    "    print(f\"Time Frame: {result['time_frame']}\")\n",
    "    print(f\"Emission Factor: {result['emission_factor']} kg CO2/L\")\n",
    "    print(f\"Total CO2 Emissions: {result['total_co2_emissions']} kg\")\n",
    "    print(f\"Average CO2 Emissions per minute: {result['average_co2_emissions_per_minute']} kg\")"
   ]
  }
 ],
 "metadata": {
  "kernelspec": {
   "display_name": "Python 3",
   "language": "python",
   "name": "python3"
  },
  "language_info": {
   "codemirror_mode": {
    "name": "ipython",
    "version": 3
   },
   "file_extension": ".py",
   "mimetype": "text/x-python",
   "name": "python",
   "nbconvert_exporter": "python",
   "pygments_lexer": "ipython3",
   "version": "3.12.6"
  }
 },
 "nbformat": 4,
 "nbformat_minor": 2
}
