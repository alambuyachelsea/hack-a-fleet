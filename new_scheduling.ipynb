{
 "cells": [
  {
   "cell_type": "code",
   "execution_count": 7,
   "metadata": {},
   "outputs": [],
   "source": [
    "import pandas as pd\n",
    "import datetime as dt\n",
    "import info_collection.ship_usage_data.average_load as avg"
   ]
  },
  {
   "cell_type": "code",
   "execution_count": 8,
   "metadata": {},
   "outputs": [
    {
     "name": "stderr",
     "output_type": "stream",
     "text": [
      "C:\\Users\\Gyurka\\AppData\\Local\\Temp\\ipykernel_9720\\3126029096.py:9: SettingWithCopyWarning: \n",
      "A value is trying to be set on a copy of a slice from a DataFrame.\n",
      "Try using .loc[row_indexer,col_indexer] = value instead\n",
      "\n",
      "See the caveats in the documentation: https://pandas.pydata.org/pandas-docs/stable/user_guide/indexing.html#returning-a-view-versus-a-copy\n",
      "  selected_route[\"time_departure\"] = pd.to_datetime(selected_route[\"time_departure\"])\n",
      "C:\\Users\\Gyurka\\AppData\\Local\\Temp\\ipykernel_9720\\3126029096.py:12: SettingWithCopyWarning: \n",
      "A value is trying to be set on a copy of a slice from a DataFrame.\n",
      "Try using .loc[row_indexer,col_indexer] = value instead\n",
      "\n",
      "See the caveats in the documentation: https://pandas.pydata.org/pandas-docs/stable/user_guide/indexing.html#returning-a-view-versus-a-copy\n",
      "  selected_route[\"date\"] = selected_route[\"time_departure\"].dt.date\n"
     ]
    }
   ],
   "source": [
    "# Load the trips data\n",
    "trips_df = pd.read_csv(\"ferry_tips_data.csv\")\n",
    "\n",
    "# look for specific route (for example 17)\n",
    "selected_route = trips_df[trips_df[\"route_id\"] == 17]\n",
    "\n",
    "# Convert \"time_departure\" to a specific format ig? \n",
    "#tbh i think time _departure is called something else but im lazy so i will check later\n",
    "selected_route[\"time_departure\"] = pd.to_datetime(selected_route[\"time_departure\"])\n",
    "\n",
    "# Create a \"date\" column for grouping\n",
    "selected_route[\"date\"] = selected_route[\"time_departure\"].dt.date\n",
    "\n",
    "# Group data to calculate hourly load (pedestrians, cars, etc)\n"
   ]
  },
  {
   "cell_type": "code",
   "execution_count": 5,
   "metadata": {},
   "outputs": [],
   "source": [
    "# Define variables according to different ferries \n",
    "ROUND_TRIP_TIME = 20  # Time for a round trip in minutes\n",
    "PEAK_TIMES = 0.8  # Load above 80% of capacity is considered peak maybe hmm\n",
    "OFF_PEAK_TIME = 0.4  # Load between 40% and 80% is off-peak\n",
    "SHIP_CAPACITY = 50  # Example capacity (will be different obv idk what to put here rn lol)\n",
    "CUTOFF_TIME = 10  # Ticket cutoff time in minutes before departure\n",
    "ROUTE_ID = 17\n",
    "\n",
    "# Initialize an empty schedule list\n",
    "schedule = []\n"
   ]
  },
  {
   "cell_type": "code",
   "execution_count": 11,
   "metadata": {},
   "outputs": [
    {
     "ename": "TypeError",
     "evalue": "average_load_by_hour() takes 2 positional arguments but 3 were given",
     "output_type": "error",
     "traceback": [
      "\u001b[1;31m---------------------------------------------------------------------------\u001b[0m",
      "\u001b[1;31mTypeError\u001b[0m                                 Traceback (most recent call last)",
      "Cell \u001b[1;32mIn[11], line 5\u001b[0m\n\u001b[0;32m      1\u001b[0m \u001b[38;5;66;03m# Iterate through each hour to calculate demand and schedule the times accordingly \u001b[39;00m\n\u001b[0;32m      2\u001b[0m \u001b[38;5;66;03m# at first i didnt use unique but ig there will be different ferries that have the same time yk??\u001b[39;00m\n\u001b[0;32m      3\u001b[0m \u001b[38;5;66;03m#idk if this makes sense \u001b[39;00m\n\u001b[0;32m      4\u001b[0m \u001b[38;5;28;01mfor\u001b[39;00m day_of_week \u001b[38;5;129;01min\u001b[39;00m \u001b[38;5;28mrange\u001b[39m(\u001b[38;5;241m7\u001b[39m):\n\u001b[1;32m----> 5\u001b[0m     daily_data \u001b[38;5;241m=\u001b[39m \u001b[43mavg\u001b[49m\u001b[38;5;241;43m.\u001b[39;49m\u001b[43maverage_load_by_hour\u001b[49m\u001b[43m(\u001b[49m\u001b[43mROUTE_ID\u001b[49m\u001b[43m,\u001b[49m\u001b[43m \u001b[49m\u001b[43mday_of_week\u001b[49m\u001b[43m,\u001b[49m\u001b[43m \u001b[49m\u001b[43mtrips_df\u001b[49m\u001b[43m)\u001b[49m\n\u001b[0;32m      6\u001b[0m     \u001b[38;5;28;01mfor\u001b[39;00m hour \u001b[38;5;129;01min\u001b[39;00m daily_data[\u001b[38;5;124m\"\u001b[39m\u001b[38;5;124mtime_departure\u001b[39m\u001b[38;5;124m\"\u001b[39m]\u001b[38;5;241m.\u001b[39munique():\n\u001b[0;32m      7\u001b[0m         \u001b[38;5;66;03m# Calculate total load for this hour\u001b[39;00m\n\u001b[0;32m      8\u001b[0m         total_load \u001b[38;5;241m=\u001b[39m daily_data[\u001b[38;5;124m\"\u001b[39m\u001b[38;5;124mcars_outbound\u001b[39m\u001b[38;5;124m\"\u001b[39m]\n",
      "\u001b[1;31mTypeError\u001b[0m: average_load_by_hour() takes 2 positional arguments but 3 were given"
     ]
    }
   ],
   "source": [
    "# Iterate through each hour to calculate demand and schedule the times accordingly \n",
    "# at first i didnt use unique but ig there will be different ferries that have the same time yk??\n",
    "#idk if this makes sense \n",
    "for day_of_week in range(7):\n",
    "    daily_data = avg.average_load_by_hour(ROUTE_ID, day_of_week, trips_df)\n",
    "    for hour in daily_data[\"time_departure\"].unique():\n",
    "        # Calculate total load for this hour\n",
    "        total_load = daily_data[\"cars_outbound\"]\n",
    "\n",
    "        # Determine trip frequency based on load\n",
    "        if total_load >= SHIP_CAPACITY * PEAK_TIME:\n",
    "            # High demand: Schedule trips every RRT\n",
    "            trips = 60 // ROUND_TRIP_TIME\n",
    "            for trip in range(trips):\n",
    "                departure_time = dt.time(hour=hour, minute=trip * ROUND_TRIP_TIME)\n",
    "                schedule.append({\"date\": date, \"departure_time\": departure_time})\n",
    "        elif total_load >= SHIP_CAPACITY * OFF_PEAK_TIME:\n",
    "            # Medium demand: Schedule fewer trips (e.g., every 40-50 minutes?)\n",
    "            trips = 60 // 40\n",
    "            for trip in range(trips):\n",
    "                departure_time = dt.time(hour=hour, minute=trip * 40)\n",
    "                schedule.append({\"date\": date, \"departure_time\": departure_time})\n",
    "        elif total_load > 0:\n",
    "            # Low demand\n",
    "            if hour % 2 == 0:  # Schedule trips every 2 hours ?? can be changed obv\n",
    "                departure_time = dt.time(hour=hour, minute=0)\n",
    "                schedule.append({\"date\": date, \"departure_time\": departure_time})\n"
   ]
  }
 ],
 "metadata": {
  "kernelspec": {
   "display_name": "Python 3",
   "language": "python",
   "name": "python3"
  },
  "language_info": {
   "codemirror_mode": {
    "name": "ipython",
    "version": 3
   },
   "file_extension": ".py",
   "mimetype": "text/x-python",
   "name": "python",
   "nbconvert_exporter": "python",
   "pygments_lexer": "ipython3",
   "version": "3.12.6"
  }
 },
 "nbformat": 4,
 "nbformat_minor": 2
}
