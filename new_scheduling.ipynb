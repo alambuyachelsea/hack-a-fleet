{
 "cells": [
  {
   "cell_type": "code",
   "execution_count": null,
   "metadata": {},
   "outputs": [],
   "source": [
    "import pandas as pd\n",
    "import datetime as dt"
   ]
  },
  {
   "cell_type": "code",
   "execution_count": null,
   "metadata": {},
   "outputs": [],
   "source": [
    "# Load the trips data\n",
    "trips_df = pd.read_csv(\"ferry_tips_data.csv\")\n",
    "\n",
    "# look for specific route (for example 17)\n",
    "selected_route = trips_df[trips_df[\"route_id\"] == 17]\n",
    "\n",
    "# Convert \"time_departure\" to a specific format ig? \n",
    "#tbh i think time _departure is called something else but im lazy so i will check later\n",
    "selected_route[\"time_departure\"] = pd.to_datetime(selected_route[\"time_departure\"])\n",
    "\n",
    "# Create a \"date\" column for grouping\n",
    "selected_route[\"date\"] = selected_route[\"time_departure\"].dt.date\n",
    "\n",
    "# Group data to calculate hourly load (pedestrians, cars, etc)\n"
   ]
  },
  {
   "cell_type": "code",
   "execution_count": null,
   "metadata": {},
   "outputs": [],
   "source": [
    "# Define variables according to different ferries \n",
    "ROUND_TRIP_TIME = 20  # Time for a round trip in minutes\n",
    "PEAK_TIMES = 0.8  # Load above 80% of capacity is considered peak maybe hmm\n",
    "OFF_PEAK_TIME = 0.4  # Load between 40% and 80% is off-peak\n",
    "SHIP_CAPACITY = 50  # Example capacity (will be different obv idk what to put here rn lol)\n",
    "CUTOFF_TIME = 10  # Ticket cutoff time in minutes before departure\n",
    "ROUTE_ID = 17\n",
    "\n",
    "# Initialize an empty schedule list\n",
    "schedule = []\n"
   ]
  },
  {
   "cell_type": "code",
   "execution_count": null,
   "metadata": {},
   "outputs": [],
   "source": [
    "# Iterate through each hour to calculate demand and schedule the times accordingly \n",
    "# at first i didnt use unique but ig there will be different ferries that have the same time yk??\n",
    "#idk if this makes sense \n",
    "for day_of_week in range(7):\n",
    "    daily_data = average_load_by_hour_for_day(ROUTE_ID, day_of_week)\n",
    "    for hour in daily_data[\"time_departure\"].unique():\n",
    "        # Calculate total load for this hour\n",
    "        total_load = daily_data[\"cars_outbound\"]\n",
    "\n",
    "        # Determine trip frequency based on load\n",
    "        if total_load >= SHIP_CAPACITY * PEAK_TIME:\n",
    "            # High demand: Schedule trips every RRT\n",
    "            trips = 60 // ROUND_TRIP_TIME\n",
    "            for trip in range(trips):\n",
    "                departure_time = dt.time(hour=hour, minute=trip * ROUND_TRIP_TIME)\n",
    "                schedule.append({\"date\": date, \"departure_time\": departure_time})\n",
    "        elif total_load >= SHIP_CAPACITY * OFF_PEAK_TIME:\n",
    "            # Medium demand: Schedule fewer trips (e.g., every 40-50 minutes?)\n",
    "            trips = 60 // 40\n",
    "            for trip in range(trips):\n",
    "                departure_time = dt.time(hour=hour, minute=trip * 40)\n",
    "                schedule.append({\"date\": date, \"departure_time\": departure_time})\n",
    "        elif total_load > 0:\n",
    "            # Low demand\n",
    "            if hour % 2 == 0:  # Schedule trips every 2 hours ?? can be changed obv\n",
    "                departure_time = dt.time(hour=hour, minute=0)\n",
    "                schedule.append({\"date\": date, \"departure_time\": departure_time})\n"
   ]
  }
 ],
 "metadata": {
  "language_info": {
   "name": "python"
  }
 },
 "nbformat": 4,
 "nbformat_minor": 2
}
