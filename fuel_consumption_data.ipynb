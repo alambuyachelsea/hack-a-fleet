{
 "cells": [
  {
   "cell_type": "code",
   "execution_count": null,
   "metadata": {},
   "outputs": [
    {
     "ename": "AttributeError",
     "evalue": "'float' object has no attribute 'round'",
     "output_type": "error",
     "traceback": [
      "\u001b[0;31m---------------------------------------------------------------------------\u001b[0m",
      "\u001b[0;31mAttributeError\u001b[0m                            Traceback (most recent call last)",
      "Cell \u001b[0;32mIn[7], line 52\u001b[0m\n\u001b[1;32m     49\u001b[0m start_time \u001b[38;5;241m=\u001b[39m \u001b[38;5;124m\"\u001b[39m\u001b[38;5;124m2024-11-01 00:00:00\u001b[39m\u001b[38;5;124m\"\u001b[39m\n\u001b[1;32m     50\u001b[0m end_time \u001b[38;5;241m=\u001b[39m \u001b[38;5;124m\"\u001b[39m\u001b[38;5;124m2024-11-01 00:10:00\u001b[39m\u001b[38;5;124m\"\u001b[39m\n\u001b[0;32m---> 52\u001b[0m result \u001b[38;5;241m=\u001b[39m \u001b[43mcalculate_fuel_consumption\u001b[49m\u001b[43m(\u001b[49m\u001b[43mvessel_id\u001b[49m\u001b[43m,\u001b[49m\u001b[43m \u001b[49m\u001b[43mstart_time\u001b[49m\u001b[43m,\u001b[49m\u001b[43m \u001b[49m\u001b[43mend_time\u001b[49m\u001b[43m)\u001b[49m\n\u001b[1;32m     53\u001b[0m \u001b[38;5;28;01mif\u001b[39;00m \u001b[38;5;124m\"\u001b[39m\u001b[38;5;124mmessage\u001b[39m\u001b[38;5;124m\"\u001b[39m \u001b[38;5;129;01min\u001b[39;00m result:\n\u001b[1;32m     54\u001b[0m     \u001b[38;5;28mprint\u001b[39m(result[\u001b[38;5;124m\"\u001b[39m\u001b[38;5;124mmessage\u001b[39m\u001b[38;5;124m\"\u001b[39m])\n",
      "Cell \u001b[0;32mIn[7], line 38\u001b[0m, in \u001b[0;36mcalculate_fuel_consumption\u001b[0;34m(vessel_id, start_time, end_time)\u001b[0m\n\u001b[1;32m     36\u001b[0m \u001b[38;5;66;03m# Calculate the total and average fuel consumption\u001b[39;00m\n\u001b[1;32m     37\u001b[0m total_fuel_consumption \u001b[38;5;241m=\u001b[39m fuel_data_df[\u001b[38;5;124m\"\u001b[39m\u001b[38;5;124menginemain_fuelcons_lph_1\u001b[39m\u001b[38;5;124m\"\u001b[39m]\u001b[38;5;241m.\u001b[39msum()\u001b[38;5;241m.\u001b[39mround(\u001b[38;5;241m2\u001b[39m)\n\u001b[0;32m---> 38\u001b[0m average_fuel_consumption \u001b[38;5;241m=\u001b[39m \u001b[43mnon_zero_data\u001b[49m\u001b[43m[\u001b[49m\u001b[38;5;124;43m\"\u001b[39;49m\u001b[38;5;124;43menginemain_fuelcons_lph_1\u001b[39;49m\u001b[38;5;124;43m\"\u001b[39;49m\u001b[43m]\u001b[49m\u001b[38;5;241;43m.\u001b[39;49m\u001b[43mmean\u001b[49m\u001b[43m(\u001b[49m\u001b[43m)\u001b[49m\u001b[38;5;241;43m.\u001b[39;49m\u001b[43mround\u001b[49m(\u001b[38;5;241m2\u001b[39m)\n\u001b[1;32m     40\u001b[0m \u001b[38;5;28;01mreturn\u001b[39;00m {\n\u001b[1;32m     41\u001b[0m     \u001b[38;5;124m\"\u001b[39m\u001b[38;5;124mtotal_fuel_consumption\u001b[39m\u001b[38;5;124m\"\u001b[39m: total_fuel_consumption,\n\u001b[1;32m     42\u001b[0m     \u001b[38;5;124m\"\u001b[39m\u001b[38;5;124maverage_fuel_consumption\u001b[39m\u001b[38;5;124m\"\u001b[39m: average_fuel_consumption,\n\u001b[1;32m     43\u001b[0m     \u001b[38;5;124m\"\u001b[39m\u001b[38;5;124mdata_points\u001b[39m\u001b[38;5;124m\"\u001b[39m: \u001b[38;5;28mlen\u001b[39m(fuel_data_df),\n\u001b[1;32m     44\u001b[0m     \u001b[38;5;124m\"\u001b[39m\u001b[38;5;124mnon_zero_points\u001b[39m\u001b[38;5;124m\"\u001b[39m: \u001b[38;5;28mlen\u001b[39m(non_zero_data)\n\u001b[1;32m     45\u001b[0m }\n",
      "\u001b[0;31mAttributeError\u001b[0m: 'float' object has no attribute 'round'"
     ]
    }
   ],
   "source": [
    "from utils import *\n",
    "\n",
    "def calculate_fuel_consumption(vessel_id, start_time, end_time):\n",
    "    \"\"\"\n",
    "    Calculate total and average fuel consumption for a given vessel and time range.\n",
    "\n",
    "    Parameters:\n",
    "        vessel_id (str): The ID of the vessel to fetch data for.\n",
    "        start_time (str): The start of the time range (ISO8601 format).\n",
    "        end_time (str): The end of the time range (ISO8601 format).\n",
    "\n",
    "    Returns:\n",
    "        dict: A dictionary containing total and average fuel consumption.\n",
    "    \"\"\"\n",
    "    # Define the parameter ID for fuel consumption\n",
    "    parameter_ids = [\"enginemain_fuelcons_lph_1\"]\n",
    "\n",
    "    # Fetch data from PONTOS-HUB\n",
    "    vessel_data = fetch_vessel_data(\n",
    "        vessel_id=vessel_id,\n",
    "        start_time=start_time,\n",
    "        end_time=end_time,\n",
    "        parameter_ids=parameter_ids,\n",
    "        time_bucket=\"1 minute\"\n",
    "    )\n",
    "\n",
    "    # Convert fetched data into a Pandas DataFrame\n",
    "    fuel_data_df = transform_vessel_data_to_dataframe(vessel_data)\n",
    "\n",
    "    if fuel_data_df.empty:\n",
    "        return {\"message\": \"No data available for the specified parameters.\"}\n",
    "\n",
    "    # Filter out non-zero fuel consumption\n",
    "    non_zero_data = fuel_data_df[fuel_data_df[\"enginemain_fuelcons_lph_1\"] > 0]\n",
    "\n",
    "    # Calculate the total and average fuel consumption\n",
    "    total_fuel_consumption = fuel_data_df[\"enginemain_fuelcons_lph_1\"].sum().round(2)\n",
    "    average_fuel_consumption = non_zero_data[\"enginemain_fuelcons_lph_1\"].mean().round(2)\n",
    "\n",
    "    return {\n",
    "        \"total_fuel_consumption\": total_fuel_consumption,\n",
    "        \"average_fuel_consumption\": average_fuel_consumption,\n",
    "        \"data_points\": len(fuel_data_df),\n",
    "        \"non_zero_points\": len(non_zero_data)\n",
    "    }\n",
    "\n",
    "# Example usage\n",
    "vessel_id = \"mmsi_265558290\"\n",
    "start_time = \"2024-11-01 00:00:00\"\n",
    "end_time = \"2024-11-01 00:00:00\"\n",
    "\n",
    "result = calculate_fuel_consumption(vessel_id, start_time, end_time)\n",
    "if \"message\" in result:\n",
    "    print(result[\"message\"])\n",
    "else:\n",
    "    print(f\"Total fuel consumption for 24 hours: {result['total_fuel_consumption']} liters\")\n",
    "    print(f\"Average fuel consumption for 24 hours (non-zero data): {result['average_fuel_consumption']} liters per minute\")\n",
    "    print(f\"Total data points: {result['data_points']}, Non-zero data points: {result['non_zero_points']}\")\n"
   ]
  }
 ],
 "metadata": {
  "kernelspec": {
   "display_name": "Python 3",
   "language": "python",
   "name": "python3"
  },
  "language_info": {
   "codemirror_mode": {
    "name": "ipython",
    "version": 3
   },
   "file_extension": ".py",
   "mimetype": "text/x-python",
   "name": "python",
   "nbconvert_exporter": "python",
   "pygments_lexer": "ipython3",
   "version": "3.13.0"
  }
 },
 "nbformat": 4,
 "nbformat_minor": 2
}
